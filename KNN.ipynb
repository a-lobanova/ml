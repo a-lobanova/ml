{
 "cells": [
  {
   "cell_type": "code",
   "execution_count": 1,
   "metadata": {},
   "outputs": [],
   "source": [
    "import pandas as pd\n",
    "import numpy as np"
   ]
  },
  {
   "cell_type": "code",
   "execution_count": 2,
   "metadata": {},
   "outputs": [],
   "source": [
    "class myKNN:\n",
    "    def __init__(self, k = 3):\n",
    "        self.k = k\n",
    "        self.train_size = None\n",
    "        self.X = None \n",
    "        self.y = None\n",
    "    def fit(self, X:pd.DataFrame, y:pd.Series):\n",
    "        self.X = X\n",
    "        self.y = y \n",
    "        self.train_size = X.shape\n",
    "        return self.train_size\n"
   ]
  }
 ],
 "metadata": {
  "kernelspec": {
   "display_name": "Python 3",
   "language": "python",
   "name": "python3"
  },
  "language_info": {
   "codemirror_mode": {
    "name": "ipython",
    "version": 3
   },
   "file_extension": ".py",
   "mimetype": "text/x-python",
   "name": "python",
   "nbconvert_exporter": "python",
   "pygments_lexer": "ipython3",
   "version": "3.10.0"
  }
 },
 "nbformat": 4,
 "nbformat_minor": 2
}
