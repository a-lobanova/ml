{
 "cells": [
  {
   "cell_type": "code",
   "execution_count": 69,
   "metadata": {},
   "outputs": [],
   "source": [
    "import pandas as pd\n",
    "import numpy as np\n",
    "import sklearn\n",
    "import random\n",
    "from scipy import stats as st\n",
    "\n",
    "from sklearn.datasets import make_regression\n",
    "from sklearn.datasets import make_classification\n",
    "from sklearn.model_selection import train_test_split"
   ]
  },
  {
   "cell_type": "code",
   "execution_count": 70,
   "metadata": {},
   "outputs": [],
   "source": [
    "X, y = make_classification(n_samples=10,n_classes=2, n_features=4, n_informative=2, random_state=42)\n",
    "X = pd.DataFrame(X)\n",
    "y = pd.Series(y)\n",
    "\n",
    "X.columns = [f'col_{col}' for col in X.columns]\n",
    "X_train, X_test, y_train, y_test = sklearn.model_selection.train_test_split(X, y, test_size=0.4)\n"
   ]
  },
  {
   "cell_type": "code",
   "execution_count": 71,
   "metadata": {},
   "outputs": [
    {
     "data": {
      "text/html": [
       "<div>\n",
       "<style scoped>\n",
       "    .dataframe tbody tr th:only-of-type {\n",
       "        vertical-align: middle;\n",
       "    }\n",
       "\n",
       "    .dataframe tbody tr th {\n",
       "        vertical-align: top;\n",
       "    }\n",
       "\n",
       "    .dataframe thead th {\n",
       "        text-align: right;\n",
       "    }\n",
       "</style>\n",
       "<table border=\"1\" class=\"dataframe\">\n",
       "  <thead>\n",
       "    <tr style=\"text-align: right;\">\n",
       "      <th></th>\n",
       "      <th>col_0</th>\n",
       "      <th>col_1</th>\n",
       "      <th>col_2</th>\n",
       "      <th>col_3</th>\n",
       "    </tr>\n",
       "  </thead>\n",
       "  <tbody>\n",
       "    <tr>\n",
       "      <th>0</th>\n",
       "      <td>-0.925336</td>\n",
       "      <td>-1.140215</td>\n",
       "      <td>-0.838792</td>\n",
       "      <td>1.695858</td>\n",
       "    </tr>\n",
       "    <tr>\n",
       "      <th>1</th>\n",
       "      <td>-0.461711</td>\n",
       "      <td>-0.587231</td>\n",
       "      <td>-1.971718</td>\n",
       "      <td>2.037310</td>\n",
       "    </tr>\n",
       "    <tr>\n",
       "      <th>2</th>\n",
       "      <td>1.440444</td>\n",
       "      <td>1.777367</td>\n",
       "      <td>1.511576</td>\n",
       "      <td>-2.797760</td>\n",
       "    </tr>\n",
       "    <tr>\n",
       "      <th>3</th>\n",
       "      <td>1.547117</td>\n",
       "      <td>1.899693</td>\n",
       "      <td>0.834445</td>\n",
       "      <td>-2.399814</td>\n",
       "    </tr>\n",
       "    <tr>\n",
       "      <th>4</th>\n",
       "      <td>0.883943</td>\n",
       "      <td>1.068339</td>\n",
       "      <td>-0.970073</td>\n",
       "      <td>-0.261560</td>\n",
       "    </tr>\n",
       "    <tr>\n",
       "      <th>5</th>\n",
       "      <td>1.425444</td>\n",
       "      <td>1.727259</td>\n",
       "      <td>-1.185827</td>\n",
       "      <td>-0.712069</td>\n",
       "    </tr>\n",
       "    <tr>\n",
       "      <th>6</th>\n",
       "      <td>-0.580675</td>\n",
       "      <td>-0.720634</td>\n",
       "      <td>-0.960593</td>\n",
       "      <td>1.397206</td>\n",
       "    </tr>\n",
       "    <tr>\n",
       "      <th>7</th>\n",
       "      <td>-0.762815</td>\n",
       "      <td>-0.938205</td>\n",
       "      <td>-0.543048</td>\n",
       "      <td>1.284181</td>\n",
       "    </tr>\n",
       "    <tr>\n",
       "      <th>8</th>\n",
       "      <td>-1.597318</td>\n",
       "      <td>-1.962874</td>\n",
       "      <td>-0.992251</td>\n",
       "      <td>2.577940</td>\n",
       "    </tr>\n",
       "    <tr>\n",
       "      <th>9</th>\n",
       "      <td>-2.389360</td>\n",
       "      <td>-2.895397</td>\n",
       "      <td>1.976862</td>\n",
       "      <td>1.201904</td>\n",
       "    </tr>\n",
       "  </tbody>\n",
       "</table>\n",
       "</div>"
      ],
      "text/plain": [
       "      col_0     col_1     col_2     col_3\n",
       "0 -0.925336 -1.140215 -0.838792  1.695858\n",
       "1 -0.461711 -0.587231 -1.971718  2.037310\n",
       "2  1.440444  1.777367  1.511576 -2.797760\n",
       "3  1.547117  1.899693  0.834445 -2.399814\n",
       "4  0.883943  1.068339 -0.970073 -0.261560\n",
       "5  1.425444  1.727259 -1.185827 -0.712069\n",
       "6 -0.580675 -0.720634 -0.960593  1.397206\n",
       "7 -0.762815 -0.938205 -0.543048  1.284181\n",
       "8 -1.597318 -1.962874 -0.992251  2.577940\n",
       "9 -2.389360 -2.895397  1.976862  1.201904"
      ]
     },
     "execution_count": 71,
     "metadata": {},
     "output_type": "execute_result"
    }
   ],
   "source": [
    "X\n",
    "for i in range(3):\n",
    "    pass\n",
    "X"
   ]
  },
  {
   "cell_type": "code",
   "execution_count": 72,
   "metadata": {},
   "outputs": [
    {
     "data": {
      "text/html": [
       "<div>\n",
       "<style scoped>\n",
       "    .dataframe tbody tr th:only-of-type {\n",
       "        vertical-align: middle;\n",
       "    }\n",
       "\n",
       "    .dataframe tbody tr th {\n",
       "        vertical-align: top;\n",
       "    }\n",
       "\n",
       "    .dataframe thead th {\n",
       "        text-align: right;\n",
       "    }\n",
       "</style>\n",
       "<table border=\"1\" class=\"dataframe\">\n",
       "  <thead>\n",
       "    <tr style=\"text-align: right;\">\n",
       "      <th></th>\n",
       "      <th>col_0</th>\n",
       "      <th>col_1</th>\n",
       "      <th>col_2</th>\n",
       "      <th>col_3</th>\n",
       "    </tr>\n",
       "  </thead>\n",
       "  <tbody>\n",
       "    <tr>\n",
       "      <th>6</th>\n",
       "      <td>-0.580675</td>\n",
       "      <td>-0.720634</td>\n",
       "      <td>-0.960593</td>\n",
       "      <td>1.397206</td>\n",
       "    </tr>\n",
       "    <tr>\n",
       "      <th>4</th>\n",
       "      <td>0.883943</td>\n",
       "      <td>1.068339</td>\n",
       "      <td>-0.970073</td>\n",
       "      <td>-0.261560</td>\n",
       "    </tr>\n",
       "    <tr>\n",
       "      <th>5</th>\n",
       "      <td>1.425444</td>\n",
       "      <td>1.727259</td>\n",
       "      <td>-1.185827</td>\n",
       "      <td>-0.712069</td>\n",
       "    </tr>\n",
       "    <tr>\n",
       "      <th>9</th>\n",
       "      <td>-2.389360</td>\n",
       "      <td>-2.895397</td>\n",
       "      <td>1.976862</td>\n",
       "      <td>1.201904</td>\n",
       "    </tr>\n",
       "  </tbody>\n",
       "</table>\n",
       "</div>"
      ],
      "text/plain": [
       "      col_0     col_1     col_2     col_3\n",
       "6 -0.580675 -0.720634 -0.960593  1.397206\n",
       "4  0.883943  1.068339 -0.970073 -0.261560\n",
       "5  1.425444  1.727259 -1.185827 -0.712069\n",
       "9 -2.389360 -2.895397  1.976862  1.201904"
      ]
     },
     "execution_count": 72,
     "metadata": {},
     "output_type": "execute_result"
    }
   ],
   "source": [
    "X_test"
   ]
  },
  {
   "cell_type": "code",
   "execution_count": 73,
   "metadata": {},
   "outputs": [],
   "source": [
    "class MyKNNClf_works:\n",
    "    def __init__(self, k = 3):\n",
    "        self.k = k\n",
    "        self.train_size = None\n",
    "        self.X = None \n",
    "        self.y = None\n",
    "    def fit(self, X:pd.DataFrame, y:pd.Series):\n",
    "        self.X = X\n",
    "        self.y = y \n",
    "        self.train_size = X.shape\n",
    "        return self.train_size\n",
    "        \n",
    "    def count_min_distans_for_k(self, x):\n",
    "        distanses = [np.sqrt((np.sum((np.array(x) - self.X.iloc[i])**2))) for i in range(self.X.shape[0])]\n",
    "        print('distanses', distanses)\n",
    "        indexes = np.argsort(distanses)[:self.k]\n",
    "        \n",
    "        labels = y.iloc[indexes]\n",
    "\n",
    "        return labels[:self.k]\n",
    "    \n",
    "    def predict(self, X_test:pd.DataFrame):\n",
    "        pred = np.ones(X_test.shape[0], dtype=int)\n",
    "        for i in range(X_test.shape[0]):\n",
    "\n",
    "            labels = self.count_min_distans_for_k(X_test.iloc[i])\n",
    "            predicted_lable = int(labels.mode()[0])\n",
    "\n",
    "            pred[i] = predicted_lable\n",
    "\n",
    "        return pred\n",
    "    \n",
    "    def predict_proba(self, X_test:pd.DataFrame):\n",
    "        prabability = np.zeros(X_test.shape[0])\n",
    "        for  i in range(X_test.shape[0]):\n",
    "            true_labels = self.count_min_distans_for_k(X_test.iloc[i])\n",
    "            prabability[i] = true_labels.sum()/self.k\n",
    "            \n",
    "        return prabability\n"
   ]
  },
  {
   "cell_type": "code",
   "execution_count": 75,
   "metadata": {},
   "outputs": [],
   "source": [
    "class MyKNNClf_test:\n",
    "    def __init__(self, k:int = 3, metric: str = 'euclidean'):\n",
    "        self.k = k \n",
    "        self.train_size = None\n",
    "        self.X = None\n",
    "        self.y = None\n",
    "        self.metric = metric\n",
    "        self.metrics = {\n",
    "            'euclidean': self.euclidean_distances, \n",
    "            'chebyshev': self.chebyshev_distances, \n",
    "            'manhattan':self.manhattan_distances, \n",
    "            'cosine': self.cosine_distances}\n",
    "\n",
    "    def fit(self, X:pd.DataFrame, y:pd.Series):\n",
    "        self.X_train = X.copy()\n",
    "        self.y_train = y.copy()\n",
    "        self.train_size = X.shape\n",
    "        \n",
    "    def euclidean_distances(self, row):\n",
    "        distanses = np.sqrt(np.sum((self.X_train - row)**2, axis = 1))\n",
    "        \n",
    "        return distanses\n",
    "    \n",
    "    def chebyshev_distances(self, row):\n",
    "        return np.max(np.abs(self.X_train.values - row.values))\n",
    "    \n",
    "    def manhattan_distances(self, row):\n",
    "        return np.sum(np.abs(self.X_train.values - row.values))\n",
    "    def cosine_distances(self, row):\n",
    "        return np.sum(self.X_train.value - row.values)/(np.sqrt(np.sum((self.X_train.value)**2))*np.sqrt(np.sum((row.values)**2)))\n",
    "\n",
    "    def _predict(self, row):\n",
    "        predict_proba = self._predict_proba(row)\n",
    "        if predict_proba >= 0.5:\n",
    "            return 1\n",
    "        else:\n",
    "            return 0 \n",
    "    def _predict_proba(self, row):\n",
    "        distanses = self.metrics[self.metric](row)\n",
    "        indexes = np.argsort(distanses)[:self.k]\n",
    "        self.y_train = np.array(self.y_train)\n",
    "        labels = self.y_train[indexes]\n",
    "        proba = labels.mean()\n",
    "        return proba\n",
    "        \n",
    "            \n",
    "    def predict(self, X:pd.DataFrame):\n",
    "        return [X.apply(self._predict, axis = 1)]\n",
    "        \n",
    "    def predict_proba(self, X:pd.DataFrame):\n",
    "        return [X.apply(self._predict_proba, axis = 1)]\n",
    "        \n",
    "        "
   ]
  },
  {
   "cell_type": "code",
   "execution_count": 76,
   "metadata": {},
   "outputs": [
    {
     "name": "stdout",
     "output_type": "stream",
     "text": [
      "distanses [5.833891232833391, 5.388239509222738, 0.6315598275343339, 1.992952196624828, 0.517329599062704, 1.2099819946345562]\n",
      "distanses [3.6610527942327153, 2.99321923836731, 3.46409056706314, 4.838198373018745, 3.0511797558967135, 3.2923843695732504]\n",
      "distanses [3.410106385989372, 2.6409310782587303, 4.434762544913692, 5.797913570425221, 4.03625483823471, 4.134601448196524]\n",
      "distanses [7.260573011865205, 7.264035880138701, 3.6600452157293355, 3.493714515360034, 3.5823132406536815, 5.033154872538991]\n",
      "out_proba [1.         0.66666667 0.33333333 1.        ]\n",
      "distanses [5.833891232833391, 5.388239509222738, 0.6315598275343339, 1.992952196624828, 0.517329599062704, 1.2099819946345562]\n",
      "distanses [3.6610527942327153, 2.99321923836731, 3.46409056706314, 4.838198373018745, 3.0511797558967135, 3.2923843695732504]\n",
      "distanses [3.410106385989372, 2.6409310782587303, 4.434762544913692, 5.797913570425221, 4.03625483823471, 4.134601448196524]\n",
      "distanses [7.260573011865205, 7.264035880138701, 3.6600452157293355, 3.493714515360034, 3.5823132406536815, 5.033154872538991]\n",
      "<built-in method sum of numpy.ndarray object at 0x173489a10>\n"
     ]
    },
    {
     "data": {
      "text/plain": [
       "array([1, 1, 0, 1])"
      ]
     },
     "execution_count": 76,
     "metadata": {},
     "output_type": "execute_result"
    }
   ],
   "source": [
    "model_works = MyKNNClf_works()\n",
    "model_works.fit(X_train,y_train);\n",
    "out_proba = model_works.predict_proba(X_test)\n",
    "print('out_proba', out_proba)\n",
    "out = model_works.predict(X_test);\n",
    "print(out.sum)\n",
    "out\n"
   ]
  },
  {
   "cell_type": "code",
   "execution_count": 77,
   "metadata": {},
   "outputs": [
    {
     "name": "stdout",
     "output_type": "stream",
     "text": [
      "out [6    0.333333\n",
      "4    0.666667\n",
      "5    1.000000\n",
      "9    0.333333\n",
      "dtype: float64]\n"
     ]
    },
    {
     "data": {
      "text/plain": [
       "[6    0\n",
       " 4    1\n",
       " 5    1\n",
       " 9    0\n",
       " dtype: int64]"
      ]
     },
     "execution_count": 77,
     "metadata": {},
     "output_type": "execute_result"
    }
   ],
   "source": [
    "model_test = MyKNNClf_test()\n",
    "model_test.fit(X_train, y_train);\n",
    "out = model_test.predict_proba(X_test);\n",
    "print('out', out)\n",
    "out = model_test.predict(X_test);\n",
    "out\n"
   ]
  },
  {
   "cell_type": "code",
   "execution_count": 78,
   "metadata": {},
   "outputs": [],
   "source": [
    "class MyKNNClf:\n",
    "    def __init__(self, k:int = 3, weight:str = 'uniform'):\n",
    "        self.k = k\n",
    "        self.train_size = None\n",
    "        self.X_train = None\n",
    "        self.y_train = None\n",
    "        self.weight = weight \n",
    "        \n",
    "    def fit(self, X:pd.DataFrame, y:pd.Series):\n",
    "        self.X_train = X.values\n",
    "        self.y_train = y.values\n",
    "        self.train_size = X.shape\n",
    "        \n",
    "   \n",
    "    def count_distance(self, x_test):\n",
    "        distance = np.linalg.norm(self.X_train - x_test, axis = 1)\n",
    "        return distance\n",
    "                       \n",
    "    def predict(self, X:pd.DataFrame):\n",
    "        proba = self.predict_proba(X)\n",
    "        return (proba >= 0.5).astype(int)\n",
    "        \n",
    "    def predict_proba(self, X:pd.DataFrame):\n",
    "        X = X.values\n",
    "        proba = []\n",
    "        for x_test in X:\n",
    "            distances = self.count_distance(x_test)\n",
    "            labels_index = np.argsort(distances)[:self.k]\n",
    "            labels = self.y_train[labels_index]\n",
    "            print('labels',labels)\n",
    "            proba.append(labels.mean())\n",
    "        print('proba', proba)\n",
    "        return np.array(proba)\n",
    "        "
   ]
  },
  {
   "cell_type": "code",
   "execution_count": 79,
   "metadata": {},
   "outputs": [
    {
     "name": "stdout",
     "output_type": "stream",
     "text": [
      "labels [1 0 0]\n",
      "labels [1 1 0]\n",
      "labels [1 1 1]\n",
      "labels [0 1 0]\n",
      "proba [0.3333333333333333, 0.6666666666666666, 1.0, 0.3333333333333333]\n",
      "out [0.33333333 0.66666667 1.         0.33333333]\n",
      "labels [1 0 0]\n",
      "labels [1 1 0]\n",
      "labels [1 1 1]\n",
      "labels [0 1 0]\n",
      "proba [0.3333333333333333, 0.6666666666666666, 1.0, 0.3333333333333333]\n"
     ]
    },
    {
     "data": {
      "text/plain": [
       "array([0, 1, 1, 0])"
      ]
     },
     "execution_count": 79,
     "metadata": {},
     "output_type": "execute_result"
    }
   ],
   "source": [
    "model_test_1 = MyKNNClf()\n",
    "model_test_1.fit(X_train, y_train);\n",
    "out = model_test_1.predict_proba(X_test);\n",
    "print('out', out)\n",
    "out = model_test_1.predict(X_test);\n",
    "out\n"
   ]
  }
 ],
 "metadata": {
  "kernelspec": {
   "display_name": "Python 3",
   "language": "python",
   "name": "python3"
  },
  "language_info": {
   "codemirror_mode": {
    "name": "ipython",
    "version": 3
   },
   "file_extension": ".py",
   "mimetype": "text/x-python",
   "name": "python",
   "nbconvert_exporter": "python",
   "pygments_lexer": "ipython3",
   "version": "3.10.0"
  }
 },
 "nbformat": 4,
 "nbformat_minor": 2
}
